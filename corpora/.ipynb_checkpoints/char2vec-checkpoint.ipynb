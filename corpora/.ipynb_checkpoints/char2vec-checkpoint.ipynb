{
 "cells": [
  {
   "cell_type": "code",
   "execution_count": 1,
   "metadata": {
    "collapsed": true
   },
   "outputs": [],
   "source": [
    "from __future__ import absolute_import\n",
    "from __future__ import division\n",
    "from __future__ import print_function\n",
    "\n",
    "import collections\n",
    "import math\n",
    "import os\n",
    "import random\n",
    "import zipfile\n",
    "import csv\n",
    "\n",
    "import numpy as np\n",
    "from six.moves import urllib\n",
    "from six.moves import xrange  # pylint: disable=redefined-builtin\n",
    "import tensorflow as tf"
   ]
  },
  {
   "cell_type": "code",
   "execution_count": 2,
   "metadata": {
    "collapsed": true
   },
   "outputs": [],
   "source": [
    "# Step 1: Download the data.\n",
    "url = 'http://mattmahoney.net/dc/'"
   ]
  },
  {
   "cell_type": "code",
   "execution_count": 3,
   "metadata": {
    "collapsed": true
   },
   "outputs": [],
   "source": [
    "def maybe_download(filename, expected_bytes):\n",
    "  \"\"\"Download a file if not present, and make sure it's the right size.\"\"\"\n",
    "  if not os.path.exists(filename):\n",
    "    filename, _ = urllib.request.urlretrieve(url + filename, filename)\n",
    "  statinfo = os.stat(filename)\n",
    "  if statinfo.st_size == expected_bytes:\n",
    "    print('Found and verified', filename)\n",
    "  else:\n",
    "    print(statinfo.st_size)\n",
    "    raise Exception(\n",
    "        'Failed to verify ' + filename + '. Can you get to it with a browser?')\n",
    "  return filename"
   ]
  },
  {
   "cell_type": "code",
   "execution_count": 4,
   "metadata": {
    "collapsed": true
   },
   "outputs": [],
   "source": [
    "#filename = maybe_download('text8.zip', 31344016)\n",
    "filename = 'data/IEDB_all_classII.csv'"
   ]
  },
  {
   "cell_type": "code",
   "execution_count": 5,
   "metadata": {
    "collapsed": true
   },
   "outputs": [],
   "source": [
    "# Read the data into a list of strings.\n",
    "def read_data(filename):\n",
    "  \"\"\"Extract the first file enclosed in a zip file as a list of words.\"\"\"\n",
    "  with zipfile.ZipFile(filename) as f:\n",
    "    data = tf.compat.as_str(f.read(f.namelist()[0])).split()\n",
    "  return data"
   ]
  },
  {
   "cell_type": "code",
   "execution_count": 6,
   "metadata": {
    "collapsed": true
   },
   "outputs": [],
   "source": [
    "# Read csv data into a list of strings.\n",
    "def read_data_csv(filename,value_position):\n",
    "  with open(filename, 'r') as csvfile:\n",
    "    data_reader = csv.reader(csvfile, delimiter=',', quotechar='|')\n",
    "    headers = next(csvfile)\n",
    "    print(headers)\n",
    "    data = []\n",
    "    for row in data_reader:\n",
    "      # print(row[value_position])\n",
    "      data.extend(['<START>','<START>'])\n",
    "      data.extend(list(row[value_position]))\n",
    "      data.extend(['<END>','<END>'])\n",
    "    # print(data)\n",
    "  print(data[:100])\n",
    "  return data"
   ]
  },
  {
   "cell_type": "code",
   "execution_count": 7,
   "metadata": {},
   "outputs": [
    {
     "name": "stdout",
     "output_type": "stream",
     "text": [
      "Organism,HLA,PeptideLength,PeptideSequence,ValueType,Value\n",
      "\n",
      "['<START>', '<START>', 'A', 'K', 'K', 'Y', 'F', 'A', 'A', 'T', 'Q', 'F', 'E', 'P', 'L', 'A', 'A', '<END>', '<END>', '<START>', '<START>', 'A', 'W', 'V', 'D', 'S', 'G', 'A', 'Q', 'L', 'G', 'E', 'L', 'Y', 'Y', 'A', '<END>', '<END>', '<START>', '<START>', 'K', 'R', 'V', 'S', 'N', 'V', 'I', 'I', 'H', 'G', 'L', 'H', 'L', 'Y', 'G', '<END>', '<END>', '<START>', '<START>', 'P', 'A', 'T', 'P', 'A', 'A', 'P', 'G', 'A', 'G', 'Y', 'T', 'P', 'A', 'T', '<END>', '<END>', '<START>', '<START>', 'E', 'K', 'M', 'Y', 'F', 'A', 'A', 'T', 'Q', 'F', 'E', 'P', 'L', 'A', 'A', '<END>', '<END>', '<START>', '<START>', 'T', 'I', 'P']\n",
      "Data size 854464\n"
     ]
    }
   ],
   "source": [
    "#vocabulary = read_data(filename)\n",
    "vocabulary = read_data_csv(filename,3)\n",
    "print('Data size', len(vocabulary))"
   ]
  },
  {
   "cell_type": "code",
   "execution_count": 8,
   "metadata": {},
   "outputs": [
    {
     "name": "stdout",
     "output_type": "stream",
     "text": [
      "['<START>', '<START>', 'A', 'K', 'K', 'Y', 'F', 'A', 'A', 'T', 'Q', 'F', 'E', 'P', 'L', 'A', 'A', '<END>', '<END>', '<START>']\n"
     ]
    }
   ],
   "source": [
    "print(vocabulary[:20])"
   ]
  },
  {
   "cell_type": "code",
   "execution_count": 9,
   "metadata": {
    "collapsed": true
   },
   "outputs": [],
   "source": [
    "# Step 2: Build the dictionary and replace rare words with UNK token.\n",
    "vocabulary_size = 20 + 2 # 50000"
   ]
  },
  {
   "cell_type": "code",
   "execution_count": 10,
   "metadata": {
    "collapsed": true
   },
   "outputs": [],
   "source": [
    "def build_dataset(words, n_words):\n",
    "  \"\"\"Process raw inputs into a dataset.\"\"\"\n",
    "  # count = [['UNK', -1]]\n",
    "  count = []\n",
    "  count.extend(collections.Counter(words).most_common(n_words)) # - 1))\n",
    "  dictionary = dict()\n",
    "  for word, _ in count:\n",
    "    if word != \"<END>\" and word != \"<START>\":\n",
    "      dictionary[word] = len(dictionary)\n",
    "      # print (word)\n",
    "  dictionary['<START>'] = len(dictionary)\n",
    "  dictionary['<END>'] = len(dictionary)\n",
    "  \n",
    "  data = list()\n",
    "  # unk_count = 0\n",
    "  for word in words:\n",
    "    #if word in dictionary:\n",
    "    index = dictionary[word]\n",
    "    # else:\n",
    "    #  index = 0  # dictionary['UNK']\n",
    "      # unk_count += 1\n",
    "    data.append(index)\n",
    "  # count[0][1] = unk_count\n",
    "  reversed_dictionary = dict(zip(dictionary.values(), dictionary.keys()))\n",
    "  return data, count, dictionary, reversed_dictionary"
   ]
  },
  {
   "cell_type": "code",
   "execution_count": 11,
   "metadata": {
    "collapsed": true
   },
   "outputs": [],
   "source": [
    "data, count, dictionary, reverse_dictionary = build_dataset(vocabulary,\n",
    "                                                            vocabulary_size)"
   ]
  },
  {
   "cell_type": "code",
   "execution_count": 12,
   "metadata": {},
   "outputs": [
    {
     "name": "stdout",
     "output_type": "stream",
     "text": [
      "Most common words (+UNK) [('<START>', 89828), ('<END>', 89828), ('A', 71962), ('L', 59450), ('K', 49028)]\n",
      "Sample data [20, 20, 0, 2, 2, 13, 10, 0, 0, 7, 15, 10, 6, 9, 1, 0, 0, 21, 21, 20] ['<START>', '<START>', 'A', 'K', 'K', 'Y', 'F', 'A', 'A', 'T', 'Q', 'F', 'E', 'P', 'L', 'A', 'A', '<END>', '<END>', '<START>']\n"
     ]
    }
   ],
   "source": [
    "del vocabulary  # Hint to reduce memory.\n",
    "print('Most common words (+UNK)', count[:5])\n",
    "print('Sample data', data[:20], [reverse_dictionary[i] for i in data[:20]])"
   ]
  },
  {
   "cell_type": "code",
   "execution_count": 13,
   "metadata": {},
   "outputs": [
    {
     "name": "stdout",
     "output_type": "stream",
     "text": [
      "22\n",
      "854464\n"
     ]
    }
   ],
   "source": [
    "print(len(dictionary))\n",
    "print(len(data))"
   ]
  },
  {
   "cell_type": "code",
   "execution_count": 14,
   "metadata": {
    "collapsed": true
   },
   "outputs": [],
   "source": [
    "data_index = 0"
   ]
  },
  {
   "cell_type": "code",
   "execution_count": 15,
   "metadata": {
    "collapsed": true
   },
   "outputs": [],
   "source": [
    "# Step 3: Function to generate a training batch for the skip-gram model.\n",
    "def generate_batch(batch_size, num_skips, skip_window):\n",
    "  global data_index\n",
    "  assert batch_size % num_skips == 0\n",
    "  assert num_skips <= 2 * skip_window\n",
    "  batch = np.ndarray(shape=(batch_size), dtype=np.int32)\n",
    "  labels = np.ndarray(shape=(batch_size, 1), dtype=np.int32)\n",
    "  span = 2 * skip_window + 1  # [ skip_window target skip_window ]\n",
    "  buffer = collections.deque(maxlen=span)\n",
    "  if data_index + span > len(data):\n",
    "    data_index = 0\n",
    "  buffer.extend(data[data_index:data_index + span])\n",
    "  # print([reverse_dictionary[x] for x in list(buffer)])\n",
    "  data_index += span\n",
    "  for i in range(batch_size // num_skips):\n",
    "    target = skip_window  # target label at the center of the buffer\n",
    "    ###\n",
    "    # print(reverse_dictionary[buffer[target]])\n",
    "    targets_to_avoid = [skip_window]\n",
    "    for j in range(num_skips):\n",
    "      while target in targets_to_avoid:\n",
    "        target = random.randint(0, span - 1)\n",
    "      targets_to_avoid.append(target)\n",
    "      batch[i * num_skips + j] = buffer[skip_window]\n",
    "      labels[i * num_skips + j, 0] = buffer[target]\n",
    "    if data_index == len(data):\n",
    "      buffer = data[:span]\n",
    "      data_index = span\n",
    "    else:\n",
    "      buffer.append(data[data_index])\n",
    "      data_index += 1\n",
    "  # Backtrack a little bit to avoid skipping words in the end of a batch\n",
    "  # print (data_index)\n",
    "  data_index = (data_index + len(data) - span) % len(data)\n",
    "  return batch, labels"
   ]
  },
  {
   "cell_type": "code",
   "execution_count": 16,
   "metadata": {},
   "outputs": [
    {
     "name": "stdout",
     "output_type": "stream",
     "text": [
      "0 A -> 20 <START>\n",
      "0 A -> 20 <START>\n",
      "0 A -> 2 K\n",
      "0 A -> 2 K\n",
      "2 K -> 0 A\n",
      "2 K -> 13 Y\n",
      "2 K -> 2 K\n",
      "2 K -> 20 <START>\n",
      "2 K -> 0 A\n",
      "2 K -> 13 Y\n",
      "2 K -> 10 F\n",
      "2 K -> 2 K\n",
      "13 Y -> 0 A\n",
      "13 Y -> 10 F\n",
      "13 Y -> 2 K\n",
      "13 Y -> 2 K\n",
      "10 F -> 2 K\n",
      "10 F -> 0 A\n",
      "10 F -> 0 A\n",
      "10 F -> 13 Y\n",
      "0 A -> 10 F\n",
      "0 A -> 7 T\n",
      "0 A -> 0 A\n",
      "0 A -> 13 Y\n",
      "0 A -> 15 Q\n",
      "0 A -> 7 T\n",
      "0 A -> 0 A\n",
      "0 A -> 10 F\n",
      "7 T -> 10 F\n",
      "7 T -> 15 Q\n",
      "7 T -> 0 A\n",
      "7 T -> 0 A\n"
     ]
    }
   ],
   "source": [
    "batch, labels = generate_batch(batch_size=32, num_skips=4, skip_window=2)\n",
    "for i in range(32):\n",
    "  print(batch[i], reverse_dictionary[batch[i]],\n",
    "        '->', labels[i, 0], reverse_dictionary[labels[i, 0]])"
   ]
  },
  {
   "cell_type": "code",
   "execution_count": 17,
   "metadata": {},
   "outputs": [
    {
     "name": "stdout",
     "output_type": "stream",
     "text": [
      "8\n"
     ]
    }
   ],
   "source": [
    "print (data_index)"
   ]
  },
  {
   "cell_type": "code",
   "execution_count": 18,
   "metadata": {
    "collapsed": true
   },
   "outputs": [],
   "source": [
    "# Step 4: Build and train a skip-gram model.\n",
    "\n",
    "batch_size = 16 # 128\n",
    "embedding_size = 5 # 128  # Dimension of the embedding vector.\n",
    "skip_window = 2 #4 # 1       # How many words to consider left and right.\n",
    "num_skips = 4   # 2     # How many times to reuse an input to generate a label.\n",
    "\n",
    "# We pick a random validation set to sample nearest neighbors. Here we limit the\n",
    "# validation samples to the words that have a low numeric ID, which by\n",
    "# construction are also the most frequent.\n",
    "valid_size = 20     # Random set of words to evaluate similarity on.\n",
    "valid_window = 20 # 100  # Only pick dev samples in the head of the distribution.\n",
    "valid_examples = np.random.choice(valid_window, valid_size, replace=False)\n",
    "num_sampled = 4 # 64    # Number of negative examples to sample."
   ]
  },
  {
   "cell_type": "code",
   "execution_count": 19,
   "metadata": {
    "collapsed": true
   },
   "outputs": [],
   "source": [
    "graph = tf.Graph()"
   ]
  },
  {
   "cell_type": "code",
   "execution_count": 20,
   "metadata": {
    "collapsed": true
   },
   "outputs": [],
   "source": [
    "with graph.as_default():\n",
    "\n",
    "  # Input data.\n",
    "  train_inputs = tf.placeholder(tf.int32, shape=[batch_size])\n",
    "  train_labels = tf.placeholder(tf.int32, shape=[batch_size, 1])\n",
    "  valid_dataset = tf.constant(valid_examples, dtype=tf.int32)\n",
    "\n",
    "  # Ops and variables pinned to the CPU because of missing GPU implementation\n",
    "  with tf.device('/cpu:0'):\n",
    "    # Look up embeddings for inputs.\n",
    "    embeddings = tf.Variable(\n",
    "        tf.random_uniform([vocabulary_size, embedding_size], -1.0, 1.0))\n",
    "    embed = tf.nn.embedding_lookup(embeddings, train_inputs)\n",
    "\n",
    "    # Construct the variables for the NCE loss\n",
    "    nce_weights = tf.Variable(\n",
    "        tf.truncated_normal([vocabulary_size, embedding_size],\n",
    "                            stddev=1.0 / math.sqrt(embedding_size)))\n",
    "    nce_biases = tf.Variable(tf.zeros([vocabulary_size]))\n",
    "\n",
    "  # Compute the average NCE loss for the batch.\n",
    "  # tf.nce_loss automatically draws a new sample of the negative labels each\n",
    "  # time we evaluate the loss.\n",
    "  loss = tf.reduce_mean(\n",
    "      tf.nn.nce_loss(weights=nce_weights,\n",
    "                     biases=nce_biases,\n",
    "                     labels=train_labels,\n",
    "                     inputs=embed,\n",
    "                     num_sampled=num_sampled,\n",
    "                     num_classes=vocabulary_size))\n",
    "\n",
    "  # Construct the SGD optimizer using a learning rate of 1.0.\n",
    "  optimizer = tf.train.GradientDescentOptimizer(0.01).minimize(loss)\n",
    "\n",
    "  # Compute the cosine similarity between minibatch examples and all embeddings.\n",
    "  norm = tf.sqrt(tf.reduce_sum(tf.square(embeddings), 1, keep_dims=True))\n",
    "  normalized_embeddings = embeddings / norm\n",
    "  valid_embeddings = tf.nn.embedding_lookup(\n",
    "      normalized_embeddings, valid_dataset)\n",
    "  similarity = tf.matmul(\n",
    "      valid_embeddings, normalized_embeddings, transpose_b=True)\n",
    "\n",
    "  # Add variable initializer.\n",
    "  init = tf.global_variables_initializer()\n"
   ]
  },
  {
   "cell_type": "code",
   "execution_count": 21,
   "metadata": {},
   "outputs": [
    {
     "name": "stdout",
     "output_type": "stream",
     "text": [
      "Initialized\n",
      "Average loss at step  0 :  6.9749917984\n",
      "Nearest to R: P, K, <END>, V,\n",
      "Nearest to C: Y, <START>, F, H,\n",
      "Nearest to D: L, K, N, E,\n",
      "Nearest to H: F, S, W, C,\n",
      "Nearest to I: T, E, Q, <END>,\n",
      "Nearest to W: S, M, H, N,\n",
      "Nearest to M: W, N, S, H,\n",
      "Nearest to A: <END>, T, W, M,\n",
      "Nearest to P: V, K, R, <END>,\n",
      "Nearest to F: H, Q, S, T,\n",
      "Nearest to G: N, L, W, D,\n",
      "Nearest to Q: T, F, I, H,\n",
      "Nearest to K: P, R, L, V,\n",
      "Nearest to T: I, Q, F, H,\n",
      "Nearest to L: D, K, E, N,\n",
      "Nearest to N: D, M, W, L,\n",
      "Nearest to S: H, W, F, M,\n",
      "Nearest to Y: C, <START>, V, P,\n",
      "Nearest to V: P, K, R, Y,\n",
      "Nearest to E: I, D, L, N,\n",
      "Average loss at step  2000 :  4.41717595124\n",
      "Average loss at step  4000 :  2.62831543809\n",
      "Average loss at step  6000 :  2.37855658674\n",
      "Average loss at step  8000 :  2.34317050868\n",
      "Average loss at step  10000 :  2.30651495343\n",
      "Nearest to R: <END>, P, K, V,\n",
      "Nearest to C: Y, <START>, H, F,\n",
      "Nearest to D: L, K, <END>, E,\n",
      "Nearest to H: F, S, M, Q,\n",
      "Nearest to I: T, E, Q, <END>,\n",
      "Nearest to W: M, S, H, F,\n",
      "Nearest to M: W, S, A, H,\n",
      "Nearest to A: M, <END>, T, F,\n",
      "Nearest to P: V, K, R, <END>,\n",
      "Nearest to F: H, Q, S, T,\n",
      "Nearest to G: N, K, V, E,\n",
      "Nearest to Q: F, T, I, H,\n",
      "Nearest to K: D, L, P, <END>,\n",
      "Nearest to T: Q, I, F, A,\n",
      "Nearest to L: D, K, <END>, E,\n",
      "Nearest to N: E, G, D, L,\n",
      "Nearest to S: H, F, M, W,\n",
      "Nearest to Y: C, <START>, V, P,\n",
      "Nearest to V: P, K, <END>, R,\n",
      "Nearest to E: I, N, D, L,\n",
      "Average loss at step  12000 :  2.28928136981\n",
      "Average loss at step  14000 :  2.2626838364\n",
      "Average loss at step  16000 :  2.26834728789\n",
      "Average loss at step  18000 :  2.25391142255\n",
      "Average loss at step  20000 :  2.25230055541\n",
      "Nearest to R: <END>, K, P, D,\n",
      "Nearest to C: Y, <START>, S, H,\n",
      "Nearest to D: L, K, N, E,\n",
      "Nearest to H: F, S, Q, W,\n",
      "Nearest to I: E, T, N, Q,\n",
      "Nearest to W: S, M, H, F,\n",
      "Nearest to M: W, A, G, S,\n",
      "Nearest to A: M, T, F, V,\n",
      "Nearest to P: V, K, R, <END>,\n",
      "Nearest to F: H, Q, S, T,\n",
      "Nearest to G: N, D, V, M,\n",
      "Nearest to Q: F, T, H, I,\n",
      "Nearest to K: D, R, L, P,\n",
      "Nearest to T: Q, F, I, A,\n",
      "Nearest to L: D, K, P, N,\n",
      "Nearest to N: G, E, D, L,\n",
      "Nearest to S: H, F, W, M,\n",
      "Nearest to Y: C, V, <START>, M,\n",
      "Nearest to V: P, K, D, G,\n",
      "Nearest to E: I, N, D, L,\n",
      "Average loss at step  22000 :  2.25537084585\n",
      "Average loss at step  24000 :  2.24858214605\n",
      "Average loss at step  26000 :  2.25831251711\n",
      "Average loss at step  28000 :  2.2483628028\n",
      "Average loss at step  30000 :  2.24546313179\n",
      "Nearest to R: <END>, K, D, P,\n",
      "Nearest to C: Y, <START>, S, H,\n",
      "Nearest to D: K, L, R, N,\n",
      "Nearest to H: F, S, Q, W,\n",
      "Nearest to I: E, T, N, Q,\n",
      "Nearest to W: S, M, H, F,\n",
      "Nearest to M: G, W, A, N,\n",
      "Nearest to A: M, T, P, V,\n",
      "Nearest to P: V, R, L, K,\n",
      "Nearest to F: H, Q, T, S,\n",
      "Nearest to G: N, M, V, D,\n",
      "Nearest to Q: F, T, H, S,\n",
      "Nearest to K: D, R, L, P,\n",
      "Nearest to T: Q, F, I, A,\n",
      "Nearest to L: D, K, P, R,\n",
      "Nearest to N: G, D, E, I,\n",
      "Nearest to S: H, F, W, M,\n",
      "Nearest to Y: C, M, V, S,\n",
      "Nearest to V: P, G, R, K,\n",
      "Nearest to E: I, N, D, K,\n",
      "Average loss at step  32000 :  2.25428156918\n",
      "Average loss at step  34000 :  2.24465126866\n",
      "Average loss at step  36000 :  2.2653030594\n",
      "Average loss at step  38000 :  2.26130785024\n",
      "Average loss at step  40000 :  2.247754632\n",
      "Nearest to R: K, <END>, D, P,\n",
      "Nearest to C: Y, S, <START>, H,\n",
      "Nearest to D: K, L, R, N,\n",
      "Nearest to H: F, S, Q, W,\n",
      "Nearest to I: E, N, T, Q,\n",
      "Nearest to W: M, S, H, G,\n",
      "Nearest to M: G, W, N, V,\n",
      "Nearest to A: M, P, T, G,\n",
      "Nearest to P: V, R, L, K,\n",
      "Nearest to F: H, Q, T, S,\n",
      "Nearest to G: N, V, M, D,\n",
      "Nearest to Q: F, T, H, S,\n",
      "Nearest to K: D, R, L, V,\n",
      "Nearest to T: Q, F, I, H,\n",
      "Nearest to L: D, K, R, P,\n",
      "Nearest to N: G, D, E, I,\n",
      "Nearest to S: H, F, W, C,\n",
      "Nearest to Y: C, M, V, S,\n",
      "Nearest to V: P, G, R, K,\n",
      "Nearest to E: I, N, D, K,\n",
      "Average loss at step  42000 :  2.25221111858\n",
      "Average loss at step  44000 :  2.23686720484\n",
      "Average loss at step  46000 :  2.23460132748\n",
      "Average loss at step  48000 :  2.24294301349\n",
      "Average loss at step  50000 :  2.2163819648\n",
      "Nearest to R: K, D, V, <END>,\n",
      "Nearest to C: Y, S, <START>, H,\n",
      "Nearest to D: K, L, R, N,\n",
      "Nearest to H: F, S, Q, C,\n",
      "Nearest to I: E, T, N, Q,\n",
      "Nearest to W: M, S, H, G,\n",
      "Nearest to M: G, W, V, Y,\n",
      "Nearest to A: T, G, P, M,\n",
      "Nearest to P: V, G, R, L,\n",
      "Nearest to F: H, Q, T, S,\n",
      "Nearest to G: M, V, N, P,\n",
      "Nearest to Q: F, T, H, S,\n",
      "Nearest to K: D, R, L, V,\n",
      "Nearest to T: Q, F, I, H,\n",
      "Nearest to L: D, K, P, R,\n",
      "Nearest to N: D, G, E, K,\n",
      "Nearest to S: H, F, C, Q,\n",
      "Nearest to Y: C, M, W, V,\n",
      "Nearest to V: P, G, R, K,\n",
      "Nearest to E: I, N, D, K,\n",
      "Average loss at step  52000 :  2.21293841922\n",
      "Average loss at step  54000 :  2.21954050034\n",
      "Average loss at step  56000 :  2.26340945888\n",
      "Average loss at step  58000 :  2.22596610588\n",
      "Average loss at step  60000 :  2.23054754993\n",
      "Nearest to R: K, D, V, P,\n",
      "Nearest to C: Y, S, H, <START>,\n",
      "Nearest to D: K, L, R, N,\n",
      "Nearest to H: F, S, Q, C,\n",
      "Nearest to I: E, T, Q, N,\n",
      "Nearest to W: M, H, G, S,\n",
      "Nearest to M: G, W, V, Y,\n",
      "Nearest to A: P, G, T, V,\n",
      "Nearest to P: V, G, R, L,\n",
      "Nearest to F: H, Q, T, S,\n",
      "Nearest to G: V, M, P, N,\n",
      "Nearest to Q: F, T, H, I,\n",
      "Nearest to K: D, R, L, V,\n",
      "Nearest to T: Q, F, I, H,\n",
      "Nearest to L: D, K, P, R,\n",
      "Nearest to N: D, E, G, L,\n",
      "Nearest to S: H, C, F, Q,\n",
      "Nearest to Y: C, M, V, H,\n",
      "Nearest to V: P, G, R, K,\n",
      "Nearest to E: I, N, D, L,\n",
      "Average loss at step  62000 :  2.2275453099\n",
      "Average loss at step  64000 :  2.23764003408\n",
      "Average loss at step  66000 :  2.23094607076\n",
      "Average loss at step  68000 :  2.22420986459\n",
      "Average loss at step  70000 :  2.22808092505\n",
      "Nearest to R: K, V, D, <END>,\n",
      "Nearest to C: S, Y, H, <START>,\n",
      "Nearest to D: K, R, L, N,\n",
      "Nearest to H: F, S, Q, C,\n",
      "Nearest to I: E, T, Q, N,\n",
      "Nearest to W: M, H, S, G,\n",
      "Nearest to M: W, G, Y, V,\n",
      "Nearest to A: G, P, T, V,\n",
      "Nearest to P: V, G, L, R,\n",
      "Nearest to F: Q, H, T, S,\n",
      "Nearest to G: P, V, M, R,\n",
      "Nearest to Q: F, T, H, I,\n",
      "Nearest to K: D, L, R, V,\n",
      "Nearest to T: Q, F, I, H,\n",
      "Nearest to L: K, D, P, V,\n",
      "Nearest to N: E, D, K, G,\n",
      "Nearest to S: H, C, F, Q,\n",
      "Nearest to Y: C, M, W, H,\n",
      "Nearest to V: P, R, G, D,\n",
      "Nearest to E: N, I, L, K,\n",
      "Average loss at step  72000 :  2.23857079315\n",
      "Average loss at step  74000 :  2.23030478513\n",
      "Average loss at step  76000 :  2.23329754084\n",
      "Average loss at step  78000 :  2.23383090878\n",
      "Average loss at step  80000 :  2.22397090429\n",
      "Nearest to R: V, K, D, G,\n",
      "Nearest to C: S, Y, H, <START>,\n",
      "Nearest to D: K, R, N, L,\n",
      "Nearest to H: F, S, Q, C,\n",
      "Nearest to I: E, T, N, Q,\n",
      "Nearest to W: M, H, S, Y,\n",
      "Nearest to M: W, G, V, Y,\n",
      "Nearest to A: P, T, G, V,\n",
      "Nearest to P: V, G, R, L,\n",
      "Nearest to F: Q, H, T, S,\n",
      "Nearest to G: P, V, N, R,\n",
      "Nearest to Q: F, T, H, S,\n",
      "Nearest to K: R, D, L, V,\n",
      "Nearest to T: Q, F, I, H,\n",
      "Nearest to L: K, D, P, R,\n",
      "Nearest to N: D, E, G, K,\n",
      "Nearest to S: H, C, F, Q,\n",
      "Nearest to Y: C, M, W, H,\n",
      "Nearest to V: R, P, G, K,\n",
      "Nearest to E: I, N, L, K,\n",
      "Average loss at step  82000 :  2.2168964231\n",
      "Average loss at step  84000 :  2.22721465045\n",
      "Average loss at step  86000 :  2.20038458121\n",
      "Average loss at step  88000 :  2.26879732412\n",
      "Average loss at step  90000 :  2.25576737034\n",
      "Nearest to R: V, K, D, P,\n",
      "Nearest to C: Y, S, H, <START>,\n",
      "Nearest to D: K, R, L, N,\n",
      "Nearest to H: S, F, Q, C,\n",
      "Nearest to I: E, N, T, Q,\n",
      "Nearest to W: M, H, S, G,\n",
      "Nearest to M: W, G, S, V,\n",
      "Nearest to A: P, T, G, M,\n",
      "Nearest to P: V, G, R, L,\n",
      "Nearest to F: Q, H, T, S,\n",
      "Nearest to G: P, N, V, R,\n",
      "Nearest to Q: F, T, H, S,\n",
      "Nearest to K: D, L, R, V,\n",
      "Nearest to T: Q, F, I, H,\n",
      "Nearest to L: K, D, R, P,\n",
      "Nearest to N: D, G, E, K,\n",
      "Nearest to S: H, C, F, Q,\n",
      "Nearest to Y: C, M, W, H,\n",
      "Nearest to V: R, P, K, G,\n",
      "Nearest to E: I, N, L, K,\n",
      "Average loss at step  92000 :  2.2294551788\n",
      "Average loss at step  94000 :  2.25093090242\n",
      "Average loss at step  96000 :  2.24419115454\n",
      "Average loss at step  98000 :  2.23842384744\n",
      "Average loss at step  100000 :  2.25609844971\n",
      "Nearest to R: V, K, D, G,\n",
      "Nearest to C: Y, S, H, M,\n",
      "Nearest to D: K, R, L, N,\n",
      "Nearest to H: S, F, C, Q,\n",
      "Nearest to I: E, N, T, Q,\n",
      "Nearest to W: M, H, S, C,\n",
      "Nearest to M: W, G, S, V,\n",
      "Nearest to A: P, G, T, M,\n",
      "Nearest to P: V, G, R, K,\n",
      "Nearest to F: Q, H, T, S,\n",
      "Nearest to G: P, R, V, N,\n",
      "Nearest to Q: F, T, H, S,\n",
      "Nearest to K: L, D, R, V,\n",
      "Nearest to T: Q, F, I, H,\n",
      "Nearest to L: K, D, R, N,\n",
      "Nearest to N: D, G, K, R,\n",
      "Nearest to S: H, F, C, Q,\n",
      "Nearest to Y: C, M, W, H,\n",
      "Nearest to V: R, P, G, K,\n",
      "Nearest to E: I, N, L, K,\n"
     ]
    }
   ],
   "source": [
    "# Step 5: Begin training.\n",
    "num_steps = 100001\n",
    "\n",
    "with tf.Session(graph=graph) as session:\n",
    "  # We must initialize all variables before we use them.\n",
    "  init.run()\n",
    "  print('Initialized')\n",
    "\n",
    "  average_loss = 0\n",
    "  for step in xrange(num_steps):\n",
    "    batch_inputs, batch_labels = generate_batch(\n",
    "        batch_size, num_skips, skip_window)\n",
    "    feed_dict = {train_inputs: batch_inputs, train_labels: batch_labels}\n",
    "\n",
    "    # We perform one update step by evaluating the optimizer op (including it\n",
    "    # in the list of returned values for session.run()\n",
    "    _, loss_val = session.run([optimizer, loss], feed_dict=feed_dict)\n",
    "    average_loss += loss_val\n",
    "\n",
    "    if step % 2000 == 0:\n",
    "      if step > 0:\n",
    "        average_loss /= 2000\n",
    "      # The average loss is an estimate of the loss over the last 2000 batches.\n",
    "      print('Average loss at step ', step, ': ', average_loss)\n",
    "      average_loss = 0\n",
    "\n",
    "    # Note that this is expensive (~20% slowdown if computed every 500 steps)\n",
    "    if step % 10000 == 0:\n",
    "      sim = similarity.eval()\n",
    "      for i in xrange(valid_size):\n",
    "        valid_word = reverse_dictionary[valid_examples[i]]\n",
    "        top_k = 4 # 8  # number of nearest neighbors\n",
    "        nearest = (-sim[i, :]).argsort()[1:top_k + 1]\n",
    "        log_str = 'Nearest to %s:' % valid_word\n",
    "        for k in xrange(top_k):\n",
    "          close_word = reverse_dictionary[nearest[k]]\n",
    "          log_str = '%s %s,' % (log_str, close_word)\n",
    "        print(log_str)\n",
    "  final_embeddings = normalized_embeddings.eval()"
   ]
  },
  {
   "cell_type": "code",
   "execution_count": 22,
   "metadata": {
    "collapsed": true
   },
   "outputs": [],
   "source": [
    "# Step 6: Visualize the embeddings.\n",
    "\n",
    "def plot_with_labels(low_dim_embs, labels, filename='HLA-tsne.png'):\n",
    "  assert low_dim_embs.shape[0] >= len(labels), 'More labels than embeddings'\n",
    "  plt.figure(figsize=(18, 18))  # in inches\n",
    "  for i, label in enumerate(labels):\n",
    "    x, y = low_dim_embs[i, :]\n",
    "    plt.scatter(x, y)\n",
    "    plt.annotate(label,\n",
    "                 xy=(x, y),\n",
    "                 xytext=(5, 2),\n",
    "                 textcoords='offset points',\n",
    "                 ha='right',\n",
    "                 va='bottom')\n",
    "\n",
    "  plt.savefig(filename)\n",
    "  plt.show()\n"
   ]
  },
  {
   "cell_type": "code",
   "execution_count": 23,
   "metadata": {
    "collapsed": true
   },
   "outputs": [],
   "source": [
    "# pylint: disable=g-import-not-at-top\n",
    "from sklearn.manifold import TSNE\n",
    "import matplotlib.pyplot as plt"
   ]
  },
  {
   "cell_type": "code",
   "execution_count": 35,
   "metadata": {},
   "outputs": [
    {
     "data": {
      "image/png": "[encoded data removed]",
      "text/plain": [
       "<matplotlib.figure.Figure at 0x7fb59dd3c198>"
      ]
     },
     "metadata": {},
     "output_type": "display_data"
    }
   ],
   "source": [
    "tsne = TSNE(perplexity=5, n_components=2, init='pca', n_iter=1000, method='exact') # 5000\n",
    "plot_only = 20 # 500\n",
    "low_dim_embs = tsne.fit_transform(final_embeddings[:plot_only, :])\n",
    "labels = [reverse_dictionary[i] for i in xrange(plot_only)]\n",
    "plot_with_labels(low_dim_embs, labels)"
   ]
  },
  {
   "cell_type": "code",
   "execution_count": 25,
   "metadata": {},
   "outputs": [
    {
     "name": "stdout",
     "output_type": "stream",
     "text": [
      "[[-0.70260537 -0.138347   -0.29496819  0.41351116 -0.47875676]\n",
      " [ 0.17281918 -0.18799905 -0.62118417 -0.12216784 -0.73074979]\n",
      " [ 0.11450822  0.00580859 -0.6248284  -0.15887664 -0.75577891]\n",
      " [-0.06694224  0.15895213 -0.57907414  0.31690902 -0.73109156]\n",
      " [-0.14578456  0.2604315  -0.41531658  0.00138477 -0.85932094]\n",
      " [-0.45586863  0.58854234 -0.31836456  0.5278554   0.25654316]\n",
      " [ 0.20967382 -0.12767659 -0.94973534  0.12971564 -0.14461085]\n",
      " [-0.43403757 -0.16359797 -0.57150549  0.63853818  0.22471671]\n",
      " [-0.05947758  0.07102596 -0.91107684  0.40001431 -0.03667853]\n",
      " [-0.15603761  0.02039357 -0.32605264  0.18897222 -0.91280639]\n",
      " [-0.49412802  0.18217233 -0.38996398  0.65618026  0.37417412]\n",
      " [ 0.24582312  0.19248007 -0.5764491  -0.17711189 -0.73407102]\n",
      " [ 0.21189846  0.21048419 -0.79416156  0.14722084 -0.50835913]\n",
      " [-0.54795039  0.63821018  0.18807179  0.27433911 -0.42638606]\n",
      " [-0.04955487  0.25946414 -0.56128305 -0.0620147  -0.78188121]\n",
      " [-0.39072478  0.06531111 -0.53366929  0.63136691  0.39955145]\n",
      " [-0.27357981  0.57849079 -0.49686176  0.42970192 -0.39873186]\n",
      " [-0.50405985  0.45452729 -0.186125    0.67890054  0.2092369 ]\n",
      " [-0.59670502  0.7514531  -0.03688941  0.27910203 -0.00160344]\n",
      " [-0.04350437  0.62087113 -0.23659308  0.71638685 -0.20842266]\n",
      " [-0.55513209  0.63055927 -0.38859597 -0.37383401 -0.05886089]\n",
      " [-0.37321305  0.05005958 -0.6364857  -0.54199517 -0.39916575]]\n"
     ]
    }
   ],
   "source": [
    "print(final_embeddings)"
   ]
  },
  {
   "cell_type": "code",
   "execution_count": 26,
   "metadata": {},
   "outputs": [
    {
     "name": "stdout",
     "output_type": "stream",
     "text": [
      "[ 0.99999994  1.00000012  0.99999988  1.00000012  0.99999994  0.99999994\n",
      "  1.00000012  1.          1.00000012  1.          1.          1.\n",
      "  1.00000012  0.99999988  1.          0.99999988  0.99999994  0.99999994\n",
      "  1.          1.          0.99999988  1.        ]\n"
     ]
    }
   ],
   "source": [
    "print(np.sum(np.power(final_embeddings, 2), axis=1))"
   ]
  },
  {
   "cell_type": "code",
   "execution_count": 27,
   "metadata": {},
   "outputs": [
    {
     "name": "stdout",
     "output_type": "stream",
     "text": [
      "(22, 5)\n"
     ]
    }
   ],
   "source": [
    "print(final_embeddings.shape)"
   ]
  },
  {
   "cell_type": "code",
   "execution_count": 28,
   "metadata": {},
   "outputs": [
    {
     "name": "stdout",
     "output_type": "stream",
     "text": [
      "Nearest to A: P, G, T, M, V,\n",
      "Nearest to L: K, D, R, N, P,\n",
      "Nearest to K: L, D, R, V, N,\n",
      "Nearest to G: P, R, V, N, K,\n",
      "Nearest to V: R, P, G, K, D,\n",
      "Nearest to S: H, F, C, Q, W,\n",
      "Nearest to E: I, N, L, K, G,\n",
      "Nearest to T: Q, F, I, H, S,\n",
      "Nearest to I: E, N, T, Q, M,\n",
      "Nearest to P: V, G, R, K, L,\n",
      "Nearest to F: Q, H, T, S, I,\n",
      "Nearest to D: K, R, L, N, V,\n",
      "Nearest to N: D, G, K, R, E,\n",
      "Nearest to Y: C, M, W, H, S,\n",
      "Nearest to R: V, K, D, G, P,\n",
      "Nearest to Q: F, T, H, S, I,\n",
      "Nearest to M: W, G, S, V, C,\n",
      "Nearest to H: S, F, C, Q, W,\n",
      "Nearest to C: Y, S, H, M, <START>,\n",
      "Nearest to W: M, H, S, C, Y,\n",
      "Nearest to <START>: C, <END>, M, Y, S,\n",
      "Nearest to <END>: K, R, <START>, L, V,\n"
     ]
    }
   ],
   "source": [
    "# argsort()[1:top_k + 1]\n",
    "top_k = 5\n",
    "for i, vec in enumerate(final_embeddings):\n",
    "  l2_dist = np.linalg.norm(final_embeddings - vec,axis=1)\n",
    "  nearest = l2_dist.argsort()[1:top_k + 1]\n",
    "  \n",
    "  log_str = 'Nearest to %s:' % reverse_dictionary[i]\n",
    "  for k in xrange(top_k):\n",
    "    close_word = reverse_dictionary[nearest[k]]\n",
    "    log_str = '%s %s,' % (log_str, close_word)\n",
    "  print(log_str)"
   ]
  },
  {
   "cell_type": "code",
   "execution_count": 29,
   "metadata": {},
   "outputs": [
    {
     "name": "stdout",
     "output_type": "stream",
     "text": [
      "  A, L, K, G, V, S, E, T, I, P, F, D, N, Y, R, Q, M, H, C, W, <START>, <END>,\n"
     ]
    }
   ],
   "source": [
    "log_str = ' '\n",
    "labels = []\n",
    "for i in range(len(dictionary)):\n",
    "  log_str = '%s %s,' % (log_str, reverse_dictionary[i])\n",
    "  labels.append(reverse_dictionary[i])\n",
    "print(log_str)\n",
    "\n",
    "l2_dist = np.zeros([len(dictionary), len(dictionary)])\n",
    "for i, vec in enumerate(final_embeddings):\n",
    "  # print(np.linalg.norm(final_embeddings - vec,axis=1))\n",
    "  l2_dist[i] = np.linalg.norm(final_embeddings - vec,axis=1)\n",
    "\n",
    "# print (l2_dist)"
   ]
  },
  {
   "cell_type": "code",
   "execution_count": 30,
   "metadata": {},
   "outputs": [
    {
     "data": {
      "image/png": "[encoded data removed]",
      "text/plain": [
       "<matplotlib.figure.Figure at 0x7fb5a02fdcc0>"
      ]
     },
     "metadata": {},
     "output_type": "display_data"
    }
   ],
   "source": [
    "fig, axis = plt.subplots(figsize=(12, 9))\n",
    "heatmap = axis.pcolor(l2_dist, cmap='bwr')\n",
    "#legend\n",
    "cbar = plt.colorbar(heatmap)\n",
    "\n",
    "# put the major ticks at the middle of each cell\n",
    "axis.set_xticks(np.arange(l2_dist.shape[1]) + 0.5, minor=False)\n",
    "axis.set_yticks(np.arange(l2_dist.shape[0]) + 0.5, minor=False)\n",
    "axis.invert_yaxis()\n",
    "axis.xaxis.tick_top()\n",
    "\n",
    "axis.set_yticklabels(labels, minor=False)\n",
    "axis.set_xticklabels(labels, minor=False)\n",
    "# plt.imshow(l2_dist, cmap='cmap', interpolation='nearest')\n",
    "plt.show()"
   ]
  },
  {
   "cell_type": "code",
   "execution_count": null,
   "metadata": {
    "collapsed": true
   },
   "outputs": [],
   "source": []
  }
 ],
 "metadata": {
  "kernelspec": {
   "display_name": "Python 3",
   "language": "python",
   "name": "python3"
  },
  "language_info": {
   "codemirror_mode": {
    "name": "ipython",
    "version": 3
   },
   "file_extension": ".py",
   "mimetype": "text/x-python",
   "name": "python",
   "nbconvert_exporter": "python",
   "pygments_lexer": "ipython3",
   "version": "3.5.2"
  }
 },
 "nbformat": 4,
 "nbformat_minor": 2
}
